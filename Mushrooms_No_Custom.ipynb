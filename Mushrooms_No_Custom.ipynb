{
  "nbformat": 4,
  "nbformat_minor": 0,
  "metadata": {
    "colab": {
      "name": "Mushrooms-Original.ipynb",
      "provenance": [],
      "include_colab_link": true
    },
    "kernelspec": {
      "name": "python3",
      "display_name": "Python 3"
    },
    "language_info": {
      "name": "python"
    }
  },
  "cells": [
    {
      "cell_type": "markdown",
      "metadata": {
        "id": "view-in-github",
        "colab_type": "text"
      },
      "source": [
        "<a href=\"https://colab.research.google.com/github/bbartlett4/Edible-Mushroom/blob/main/Mushrooms_No_Custom.ipynb\" target=\"_parent\"><img src=\"https://colab.research.google.com/assets/colab-badge.svg\" alt=\"Open In Colab\"/></a>"
      ]
    },
    {
      "cell_type": "code",
      "execution_count": 159,
      "metadata": {
        "id": "PElToHcubmZn"
      },
      "outputs": [],
      "source": [
        "import os\n",
        "import seaborn as sns\n",
        "import numpy as np\n",
        "import tensorflow as tf\n",
        "import tensorflow_datasets as tfds\n",
        "import tensorflow_hub as hub \n",
        "import matplotlib.pyplot as plt\n",
        "import sklearn\n",
        "import pandas as pd\n",
        "from sklearn.metrics import classification_report, confusion_matrix\n",
        "from glob import glob\n",
        "from sklearn.model_selection import train_test_split\n",
        "from google.colab import drive\n",
        "import shutil \n",
        "from keras.preprocessing.image import ImageDataGenerator\n",
        "from tensorflow.keras.applications.resnet50 import preprocess_input\n",
        "import time"
      ]
    },
    {
      "cell_type": "code",
      "source": [
        "def show_image(file_path):\n",
        "    img = tf.keras.preprocessing.image.load_img(file_path, target_size=(228, 228))\n",
        "    plt.imshow(img)\n",
        "    plt.show()"
      ],
      "metadata": {
        "id": "4-nN6cfXIzdp"
      },
      "execution_count": 160,
      "outputs": []
    },
    {
      "cell_type": "code",
      "source": [
        "def preprocess_image(item):\n",
        "    image_string = tf.io.read_file(item[0])\n",
        "    image_decoded = tf.image.decode_jpeg(image_string, channels=3)\n",
        "    image_resized = tf.image.resize(image_decoded, (IMAGE_SIZE, IMAGE_SIZE))\n",
        "    image_resized = tf.cast(image_resized, tf.float32) / 255.0\n",
        "    return image_resized, tf.strings.to_number(item[1], tf.int64)"
      ],
      "metadata": {
        "id": "_UvYSUVAI0s_"
      },
      "execution_count": 161,
      "outputs": []
    },
    {
      "cell_type": "code",
      "source": [
        "def get_dataset(edible_fungies, poisonous_fungies, mode, batch_size):\n",
        "    x = list(edible_fungies) + list(poisonous_fungies)\n",
        "    y = [0] * len(edible_fungies) + [1] * len(poisonous_fungies)\n",
        "    items = [(a, b) for (a, b) in zip(x, y)]\n",
        "    dataset = tf.data.Dataset.from_tensor_slices(np.array(items)).shuffle(len(x))\n",
        "    dataset = dataset.map(preprocess_image).batch(batch_size)\n",
        "    return dataset"
      ],
      "metadata": {
        "id": "BIQ54I6dI3Py"
      },
      "execution_count": 162,
      "outputs": []
    },
    {
      "cell_type": "code",
      "source": [
        "def get_balanced_dataset(edible_fungies, poisonous_fungies, batch_count, batch_size, mode=\"train\"):\n",
        "    length_per_category = batch_size * batch_count // 2\n",
        "    edible_indices = np.random.choice(len(edible_fungies), length_per_category)\n",
        "    poisonous_indices = np.random.choice(len(poisonous_fungies), length_per_category)\n",
        "    samle_count = 2 * length_per_category\n",
        "    return get_dataset(\n",
        "        edible_fungies[edible_indices], \n",
        "        poisonous_fungies[poisonous_indices], \n",
        "        mode, \n",
        "        batch_size\n",
        "    ), samle_count"
      ],
      "metadata": {
        "id": "XMECvf3CI4VD"
      },
      "execution_count": 163,
      "outputs": []
    },
    {
      "cell_type": "code",
      "source": [
        "def augment_image(Type,Amount):\n",
        "    size=(IMAGE_SIZE,IMAGE_SIZE)\n",
        "\n",
        "    # create and store the augmented images\n",
        "    gen=ImageDataGenerator(horizontal_flip=True,  rotation_range=90, width_shift_range=.2, height_shift_range=.2, zoom_range=.2)\n",
        "    \n",
        "    from_dir=os.path.join(TRAIN_DIR,Type)\n",
        "    print(from_dir) \n",
        "    target_dir=os.path.join(AUG_DIR,Type)  # define where to write the images \n",
        "\n",
        "    aug_gen=gen.flow_from_directory( TRAIN_DIR,   target_size=size, classes=[Type],\n",
        "                                            class_mode=None, batch_size=1, shuffle=False, \n",
        "                                            save_to_dir=target_dir, save_prefix='aug-', color_mode='rgb',\n",
        "                                            save_format='jpg')\n",
        "    count=0\n",
        "    \n",
        "    while count<Amount:\n",
        "      images=next(aug_gen)            \n",
        "      count+=1\n"
      ],
      "metadata": {
        "id": "8l39XOzLbGQN"
      },
      "execution_count": 164,
      "outputs": []
    },
    {
      "cell_type": "code",
      "source": [
        "drive.mount('/content/drive')\n",
        "\n",
        "# feel free to edit this cell to work with your local or colab directory\n",
        "WORKING_DIR = '/content/drive/My Drive/Colab Notebooks/Project Data'\n",
        "TRAIN_DIR = '/content/drive/My Drive/Colab Notebooks/Project Data/train'\n",
        "VAL_DIR = '/content/drive/My Drive/Colab Notebooks/Project Data/val'\n",
        "AUG_DIR = '/content/drive/My Drive/Colab Notebooks/Project Data/aug'\n",
        "\n"
      ],
      "metadata": {
        "id": "TcfQxmAtZ7Dq",
        "outputId": "72503226-bbf8-494f-eb18-c0c61f0b19f3",
        "colab": {
          "base_uri": "https://localhost:8080/",
          "height": 0
        }
      },
      "execution_count": 202,
      "outputs": [
        {
          "output_type": "stream",
          "name": "stdout",
          "text": [
            "Drive already mounted at /content/drive; to attempt to forcibly remount, call drive.mount(\"/content/drive\", force_remount=True).\n"
          ]
        }
      ]
    },
    {
      "cell_type": "markdown",
      "source": [
        "Only Run to insert Data First Time"
      ],
      "metadata": {
        "id": "FJHm8S_UKXOm"
      }
    },
    {
      "cell_type": "code",
      "source": [
        "#ONLY RUN ONCE\n",
        "os.makedirs(AUG_DIR)\n",
        "os.makedirs(os.path.join(AUG_DIR,'edible mushroom sporocarp'))\n",
        "os.makedirs(os.path.join(AUG_DIR,'edible sporocarp'))\n",
        "os.makedirs(os.path.join(AUG_DIR,'poisonous mushroom sporocarp'))\n",
        "os.makedirs(os.path.join(AUG_DIR,'poisonous sporocarp'))\n"
      ],
      "metadata": {
        "id": "b4t8XsxZmOjt"
      },
      "execution_count": null,
      "outputs": []
    },
    {
      "cell_type": "code",
      "source": [
        "lables = [\"edible\", \"poisonous\"]\n",
        "directory_group = [\n",
        "    ['edible mushroom sporocarp', 'edible sporocarp'], \n",
        "    ['poisonous mushroom sporocarp', 'poisonous sporocarp']]\n",
        "\n",
        "\n",
        "\n",
        "shutil.move(os.path.join(WORKING_DIR,'edible mushroom sporocarp'), os.path.join(TRAIN_DIR, 'edible mushroom sporocarp'))\n",
        "shutil.move(os.path.join(WORKING_DIR,'edible sporocarp'), os.path.join(TRAIN_DIR, 'edible'))\n",
        "shutil.move(os.path.join(WORKING_DIR,'poisonous mushroom sporocarp'), os.path.join(TRAIN_DIR, 'poisonous mushroom sporocarp'))\n",
        "shutil.move(os.path.join(WORKING_DIR,'poisonous sporocarp'), os.path.join(TRAIN_DIR, 'poisonous sporocarp'))\n"
      ],
      "metadata": {
        "id": "-FPCefzoI9s1"
      },
      "execution_count": null,
      "outputs": []
    },
    {
      "cell_type": "code",
      "source": [
        "IMAGE_SIZE = 224\n",
        "EdibleMushroom = glob(TRAIN_DIR + '/edible mushroom sporocarp/*.jpg')\n",
        "EdibleSporo = glob(TRAIN_DIR + '/edible sporocarp/*.jpg')\n",
        "PoisonMushroom = glob(TRAIN_DIR + '/poisonous mushroom sporocarp/*.jpg')\n",
        "PoisonSporo = glob(TRAIN_DIR + '/poisonous sporocarp/*.jpg')\n"
      ],
      "metadata": {
        "id": "zlUC4oICI54Z"
      },
      "execution_count": 166,
      "outputs": []
    },
    {
      "cell_type": "code",
      "source": [
        "augment_image('edible mushroom sporocarp',500)\n",
        "augment_image('edible sporocarp',500)\n",
        "augment_image('poisonous mushroom sporocarp',500)\n",
        "augment_image('poisonous sporocarp',500)"
      ],
      "metadata": {
        "id": "-9MEmLveeQ6R"
      },
      "execution_count": null,
      "outputs": []
    },
    {
      "cell_type": "code",
      "source": [
        "EdibleMushroomAUG = glob(AUG_DIR + '/edible mushroom sporocarp/*.jpg')\n",
        "EdibleSporoAUG = glob(AUG_DIR + '/edible sporocarp/*.jpg')\n",
        "PoisonMushroomAUG = glob(AUG_DIR + '/poisonous mushroom sporocarp/*.jpg')\n",
        "PoisonSporoAUG = glob(AUG_DIR + '/poisonous sporocarp/*.jpg')\n",
        "edible_fungies = list(set(EdibleMushroom).union(set(EdibleSporo).union(set(EdibleSporoAUG).union(set(EdibleMushroomAUG)))))\n",
        "poisonous_fungies = list(set(PoisonMushroom).union(set(PoisonSporo).union(set(PoisonMushroom).union(set(PoisonSporo)))))"
      ],
      "metadata": {
        "id": "eCXCrBgMnRYx"
      },
      "execution_count": 167,
      "outputs": []
    },
    {
      "cell_type": "code",
      "source": [
        "batch_size = 32\n",
        "validation_split = 0.2\n",
        "\n",
        "#Ensure that edible and poison are same size\n",
        "edible_fungies = edible_fungies[0:2054]\n",
        "poisonous_fungies\n",
        "\n",
        "edible_fungies_split_index = int((1 - validation_split) * len(edible_fungies))\n",
        "poisonous_fungies_split_index = int((1 - validation_split) * len(poisonous_fungies))\n",
        "\n",
        "train_edible_fungies, valid_edible_fungies = edible_fungies[:edible_fungies_split_index],  edible_fungies[edible_fungies_split_index:] \n",
        "train_poisonous_fungies, valid_poisonous_fungies = poisonous_fungies[:poisonous_fungies_split_index],  poisonous_fungies[poisonous_fungies_split_index:] \n",
        "print(len(train_edible_fungies), len(valid_edible_fungies))\n",
        "print(len(train_poisonous_fungies), len(valid_poisonous_fungies))\n",
        "num_batch_per_epoch = min(len(train_edible_fungies), len(train_poisonous_fungies)) // batch_size\n",
        "print(num_batch_per_epoch)\n",
        "num_epochs = 50\n",
        "train_edible_fungies = np.array(train_edible_fungies)\n",
        "valid_edible_fungies = np.array(valid_edible_fungies)\n",
        "train_poisonous_fungies = np.array(train_poisonous_fungies)\n",
        "valid_poisonous_fungies = np.array(valid_poisonous_fungies)\n",
        "total_valid_count = len(valid_edible_fungies) + len(valid_poisonous_fungies)"
      ],
      "metadata": {
        "colab": {
          "base_uri": "https://localhost:8080/",
          "height": 0
        },
        "id": "BLrWzmGnJAZ_",
        "outputId": "dc493c5b-a7e5-4045-ff52-a804e4725b7d"
      },
      "execution_count": 168,
      "outputs": [
        {
          "output_type": "stream",
          "name": "stdout",
          "text": [
            "1643 411\n",
            "1643 411\n",
            "51\n"
          ]
        }
      ]
    },
    {
      "cell_type": "code",
      "source": [
        "print('edible: ', len(edible_fungies))\n",
        "print('poison: ', len(poisonous_fungies))\n",
        "\n",
        "train_edible_fungies = train_edible_fungies"
      ],
      "metadata": {
        "colab": {
          "base_uri": "https://localhost:8080/",
          "height": 0
        },
        "id": "dSMYD0NxJCAu",
        "outputId": "940fc068-4670-461f-caae-efd1e3c347a5"
      },
      "execution_count": 169,
      "outputs": [
        {
          "output_type": "stream",
          "name": "stdout",
          "text": [
            "edible:  2054\n",
            "poison:  2054\n"
          ]
        }
      ]
    },
    {
      "cell_type": "code",
      "source": [
        "edible_fungies[:10]"
      ],
      "metadata": {
        "id": "mpS_pSYqJGGp"
      },
      "execution_count": null,
      "outputs": []
    },
    {
      "cell_type": "code",
      "source": [
        "poisonous_fungies[:10]"
      ],
      "metadata": {
        "id": "RRkV-rX1JGpl"
      },
      "execution_count": null,
      "outputs": []
    },
    {
      "cell_type": "code",
      "source": [
        "for i in range(10):\n",
        "    show_image(poisonous_fungies[np.random.randint(len(poisonous_fungies))])"
      ],
      "metadata": {
        "id": "uYu73UXZJJL_"
      },
      "execution_count": null,
      "outputs": []
    },
    {
      "cell_type": "code",
      "source": [
        "for i in range(10):\n",
        "    show_image(edible_fungies[np.random.randint(len(edible_fungies))])"
      ],
      "metadata": {
        "id": "tmjJFsw0JKgF"
      },
      "execution_count": null,
      "outputs": []
    },
    {
      "cell_type": "code",
      "source": [
        "handle_base = \"mobilenet_v3\"\n",
        "MODULE_HANDLE =\"https://tfhub.dev/google/imagenet/mobilenet_v3_large_100_224/feature_vector/5\"\n",
        "print(MODULE_HANDLE)\n",
        "feature_extractor = hub.KerasLayer(MODULE_HANDLE,\n",
        "                                    input_shape=(IMAGE_SIZE, IMAGE_SIZE, 3))\n",
        "feature_extractor.trainable = False  "
      ],
      "metadata": {
        "id": "jwMgGA2xJN3g",
        "outputId": "9c7e03b5-a212-477c-b837-34e53d17547d",
        "colab": {
          "base_uri": "https://localhost:8080/",
          "height": 0
        }
      },
      "execution_count": 170,
      "outputs": [
        {
          "output_type": "stream",
          "name": "stdout",
          "text": [
            "https://tfhub.dev/google/imagenet/mobilenet_v3_large_100_224/feature_vector/5\n"
          ]
        }
      ]
    },
    {
      "cell_type": "code",
      "source": [
        "tf.keras.backend.clear_session()\n",
        "model = tf.keras.Sequential([\n",
        "    feature_extractor,\n",
        "    tf.keras.layers.Dropout(0.3),\n",
        "    tf.keras.layers.Dense(128, activation='relu'),\n",
        "    tf.keras.layers.Dropout(0.3),\n",
        "    tf.keras.layers.Dense(32, activation='relu'),\n",
        "    tf.keras.layers.Dropout(0.3),\n",
        "    tf.keras.layers.Dense(2, activation='softmax')\n",
        "])\n",
        "model.summary()"
      ],
      "metadata": {
        "colab": {
          "base_uri": "https://localhost:8080/",
          "height": 0
        },
        "id": "-cihpU70JOUe",
        "outputId": "69501ae9-ee32-417d-a395-350ad6d44f63"
      },
      "execution_count": 171,
      "outputs": [
        {
          "output_type": "stream",
          "name": "stdout",
          "text": [
            "Model: \"sequential\"\n",
            "_________________________________________________________________\n",
            " Layer (type)                Output Shape              Param #   \n",
            "=================================================================\n",
            " keras_layer (KerasLayer)    (None, 1280)              4226432   \n",
            "                                                                 \n",
            " dropout (Dropout)           (None, 1280)              0         \n",
            "                                                                 \n",
            " dense (Dense)               (None, 128)               163968    \n",
            "                                                                 \n",
            " dropout_1 (Dropout)         (None, 128)               0         \n",
            "                                                                 \n",
            " dense_1 (Dense)             (None, 32)                4128      \n",
            "                                                                 \n",
            " dropout_2 (Dropout)         (None, 32)                0         \n",
            "                                                                 \n",
            " dense_2 (Dense)             (None, 2)                 66        \n",
            "                                                                 \n",
            "=================================================================\n",
            "Total params: 4,394,594\n",
            "Trainable params: 168,162\n",
            "Non-trainable params: 4,226,432\n",
            "_________________________________________________________________\n"
          ]
        }
      ]
    },
    {
      "cell_type": "code",
      "source": [
        "#Code from Ex 30\n",
        "from keras.models import Model\n",
        "from keras.applications.inception_v3 import InceptionV3, preprocess_input\n",
        "from tensorflow.keras.layers import Dense, GlobalAveragePooling2D, Dropout\n",
        "\n",
        "train_datagen = ImageDataGenerator()\n",
        "\n",
        "validation_datagen = ImageDataGenerator()\n",
        "\n",
        "train_generator = train_datagen.flow_from_directory(\n",
        "    TRAIN_DIR,\n",
        "    target_size=(IMAGE_SIZE, IMAGE_SIZE),\n",
        "\t\tbatch_size=batch_size,\n",
        "\t\tclass_mode='categorical')\n",
        "    \n",
        "validation_generator = validation_datagen.flow_from_directory(\n",
        "    VAL_DIR,\n",
        "    target_size=(IMAGE_SIZE, IMAGE_SIZE),\n",
        "    batch_size=batch_size,\n",
        "    class_mode='categorical')\n",
        "\n",
        "base_model = InceptionV3(weights='imagenet', include_top=False)\n",
        "\n",
        "CLASSES = 2\n",
        "# These layers were removed by setting include_top=false, but we still want them\n",
        "x = base_model.output                          # The output layer of the googleNet\n",
        "x = GlobalAveragePooling2D(name='avg_pool')(x) # This layer is used to downsample the features\n",
        "x = Dropout(0.3)(x)                            # This layer is used to enforce feature redundancy \n",
        "# This layer specifies our classifier output\n",
        "predictions = Dense(CLASSES, activation='softmax')(x)\n",
        "model = Model(inputs=base_model.input, outputs=predictions)\n",
        "\n",
        "for layer in base_model.layers:\n",
        "    layer.trainable = False # Set this to True if you want to re-train the entire network.\n",
        "\n",
        "model.compile(optimizer='rmsprop',\n",
        "              loss='categorical_crossentropy',\n",
        "              metrics=['accuracy'])\n",
        "\n",
        "#STEPS_PER_EPOCH = 5\n",
        "#VALIDATION_STEPS = 1\n",
        "#MODEL_FILE = os.path.join(WORKING_DIR,'model')\n",
        "\n",
        "history = model.fit(\n",
        "    train_generator,\n",
        "    epochs=num_epochs,\n",
        "    #steps_per_epoch=STEPS_PER_EPOCH,\n",
        "    validation_data=validation_generator,\n",
        "    #validation_steps=VALIDATION_STEPS\n",
        "    )\n",
        "  "
      ],
      "metadata": {
        "id": "4Yj0Gt7U1iIE"
      },
      "execution_count": null,
      "outputs": []
    },
    {
      "cell_type": "code",
      "source": [
        "valid_dataset = get_dataset(valid_edible_fungies, valid_poisonous_fungies, \"valid\", batch_size)\n",
        "optimizer = tf.keras.optimizers.Adam()\n",
        "loss = tf.keras.losses.SparseCategoricalCrossentropy()\n",
        "history = {\n",
        "    \"train_loss\": [],\n",
        "    \"valid_loss\": [],\n",
        "    \"train_accuracy\": [],\n",
        "    \"valid_accuracy\": []\n",
        "}\n",
        "for epoch in range(num_epochs):\n",
        "    begin_time = time.time()\n",
        "    train_dataset, total_train_count = get_balanced_dataset(train_edible_fungies, train_poisonous_fungies, num_batch_per_epoch, batch_size, mode=\"train\")\n",
        "    train_losses = []\n",
        "    valid_losses = []\n",
        "    correct_count = 0\n",
        "    total_count = 0\n",
        "    for (x_batch, y_true) in train_dataset:\n",
        "        with tf.GradientTape() as tape:\n",
        "            y_pred = model(x_batch)\n",
        "            predict_labels = tf.argmax(y_pred, axis=-1)\n",
        "            loss_value = loss(y_true, y_pred)\n",
        "        gradients = tape.gradient(loss_value, model.trainable_weights)\n",
        "        optimizer.apply_gradients(zip(gradients, model.trainable_weights))\n",
        "        train_losses.append(loss_value)\n",
        "        correct_count += tf.reduce_sum(tf.cast(y_true == predict_labels, tf.int64))\n",
        "        total_count += y_true.shape[0]\n",
        "    train_loss = tf.reduce_mean(train_losses)\n",
        "    train_accuracy = correct_count / total_train_count\n",
        "    history[\"train_loss\"].append(train_loss)\n",
        "    history[\"train_accuracy\"].append(train_accuracy)\n",
        "    correct_count = 0\n",
        "    total_count = 0\n",
        "    for (x_batch, y_true) in valid_dataset:\n",
        "        y_pred = model(x_batch)\n",
        "        predict_labels = tf.argmax(y_pred, axis=-1)\n",
        "        loss_value = loss(y_true, y_pred)\n",
        "        valid_losses.append(loss_value)\n",
        "        correct_count += tf.reduce_sum(tf.cast(y_true == predict_labels, tf.int64))\n",
        "        total_count += y_true.shape[0]\n",
        "    valid_loss = tf.reduce_mean(valid_losses)\n",
        "    valid_accuracy = correct_count / total_valid_count\n",
        "    history[\"valid_loss\"].append(valid_loss)\n",
        "    history[\"valid_accuracy\"].append(valid_accuracy)\n",
        "    elapsed_time = time.time() -  begin_time\n",
        "    print(\"Epoch: %d / %d\"%(epoch + 1, num_epochs))\n",
        "    print(\"%.2fs Loss: %.2f Accuracy: %.2f Validation Loss: %.2f Validation Accuracy: %.2f\"%(elapsed_time, train_loss, train_accuracy, valid_loss, valid_accuracy))\n",
        "for key in history:\n",
        "    history[key] = list(np.array(history[key]))"
      ],
      "metadata": {
        "colab": {
          "base_uri": "https://localhost:8080/"
        },
        "id": "sMERjdeAJR1V",
        "outputId": "bdd7ecaf-3a40-4ea1-ba4b-884601cdb30c"
      },
      "execution_count": null,
      "outputs": [
        {
          "output_type": "stream",
          "name": "stdout",
          "text": [
            "Epoch: 1 / 50\n",
            "463.93s Loss: 0.46 Accuracy: 0.77 Validation Loss: 0.32 Validation Accuracy: 0.85\n",
            "Epoch: 2 / 50\n",
            "196.77s Loss: 0.30 Accuracy: 0.87 Validation Loss: 0.30 Validation Accuracy: 0.87\n",
            "Epoch: 3 / 50\n",
            "221.03s Loss: 0.22 Accuracy: 0.91 Validation Loss: 0.34 Validation Accuracy: 0.84\n",
            "Epoch: 4 / 50\n",
            "191.25s Loss: 0.20 Accuracy: 0.93 Validation Loss: 0.25 Validation Accuracy: 0.90\n",
            "Epoch: 5 / 50\n",
            "193.55s Loss: 0.16 Accuracy: 0.93 Validation Loss: 0.26 Validation Accuracy: 0.89\n",
            "Epoch: 6 / 50\n",
            "194.30s Loss: 0.16 Accuracy: 0.94 Validation Loss: 0.23 Validation Accuracy: 0.91\n",
            "Epoch: 7 / 50\n",
            "221.24s Loss: 0.14 Accuracy: 0.95 Validation Loss: 0.34 Validation Accuracy: 0.86\n",
            "Epoch: 8 / 50\n",
            "222.43s Loss: 0.11 Accuracy: 0.96 Validation Loss: 0.27 Validation Accuracy: 0.89\n",
            "Epoch: 9 / 50\n",
            "221.16s Loss: 0.09 Accuracy: 0.97 Validation Loss: 0.25 Validation Accuracy: 0.91\n",
            "Epoch: 10 / 50\n",
            "193.91s Loss: 0.07 Accuracy: 0.98 Validation Loss: 0.28 Validation Accuracy: 0.90\n",
            "Epoch: 11 / 50\n",
            "199.23s Loss: 0.06 Accuracy: 0.98 Validation Loss: 0.28 Validation Accuracy: 0.90\n",
            "Epoch: 12 / 50\n",
            "222.42s Loss: 0.05 Accuracy: 0.99 Validation Loss: 0.28 Validation Accuracy: 0.89\n",
            "Epoch: 13 / 50\n",
            "195.03s Loss: 0.05 Accuracy: 0.98 Validation Loss: 0.30 Validation Accuracy: 0.89\n",
            "Epoch: 14 / 50\n",
            "222.42s Loss: 0.05 Accuracy: 0.99 Validation Loss: 0.34 Validation Accuracy: 0.89\n",
            "Epoch: 15 / 50\n",
            "221.21s Loss: 0.04 Accuracy: 0.99 Validation Loss: 0.30 Validation Accuracy: 0.90\n",
            "Epoch: 16 / 50\n",
            "194.66s Loss: 0.03 Accuracy: 0.99 Validation Loss: 0.31 Validation Accuracy: 0.91\n",
            "Epoch: 17 / 50\n",
            "221.33s Loss: 0.03 Accuracy: 0.99 Validation Loss: 0.39 Validation Accuracy: 0.89\n",
            "Epoch: 18 / 50\n",
            "196.02s Loss: 0.02 Accuracy: 1.00 Validation Loss: 0.38 Validation Accuracy: 0.90\n",
            "Epoch: 19 / 50\n",
            "222.43s Loss: 0.02 Accuracy: 0.99 Validation Loss: 0.35 Validation Accuracy: 0.91\n",
            "Epoch: 20 / 50\n",
            "196.29s Loss: 0.02 Accuracy: 1.00 Validation Loss: 0.37 Validation Accuracy: 0.89\n",
            "Epoch: 21 / 50\n",
            "195.47s Loss: 0.01 Accuracy: 1.00 Validation Loss: 0.37 Validation Accuracy: 0.90\n",
            "Epoch: 22 / 50\n",
            "195.41s Loss: 0.01 Accuracy: 1.00 Validation Loss: 0.40 Validation Accuracy: 0.90\n",
            "Epoch: 23 / 50\n",
            "222.42s Loss: 0.01 Accuracy: 1.00 Validation Loss: 0.41 Validation Accuracy: 0.90\n",
            "Epoch: 24 / 50\n",
            "222.42s Loss: 0.02 Accuracy: 1.00 Validation Loss: 0.40 Validation Accuracy: 0.90\n",
            "Epoch: 25 / 50\n",
            "194.04s Loss: 0.01 Accuracy: 1.00 Validation Loss: 0.44 Validation Accuracy: 0.90\n",
            "Epoch: 26 / 50\n",
            "194.76s Loss: 0.01 Accuracy: 1.00 Validation Loss: 0.40 Validation Accuracy: 0.89\n",
            "Epoch: 27 / 50\n",
            "222.42s Loss: 0.00 Accuracy: 1.00 Validation Loss: 0.44 Validation Accuracy: 0.90\n",
            "Epoch: 28 / 50\n",
            "220.85s Loss: 0.01 Accuracy: 1.00 Validation Loss: 0.43 Validation Accuracy: 0.89\n",
            "Epoch: 29 / 50\n",
            "221.02s Loss: 0.01 Accuracy: 1.00 Validation Loss: 0.42 Validation Accuracy: 0.89\n",
            "Epoch: 30 / 50\n",
            "222.43s Loss: 0.00 Accuracy: 1.00 Validation Loss: 0.41 Validation Accuracy: 0.91\n",
            "Epoch: 31 / 50\n",
            "194.85s Loss: 0.00 Accuracy: 1.00 Validation Loss: 0.43 Validation Accuracy: 0.90\n",
            "Epoch: 32 / 50\n",
            "197.62s Loss: 0.00 Accuracy: 1.00 Validation Loss: 0.48 Validation Accuracy: 0.89\n",
            "Epoch: 33 / 50\n",
            "221.15s Loss: 0.00 Accuracy: 1.00 Validation Loss: 0.45 Validation Accuracy: 0.90\n",
            "Epoch: 34 / 50\n",
            "193.44s Loss: 0.00 Accuracy: 1.00 Validation Loss: 0.46 Validation Accuracy: 0.91\n",
            "Epoch: 35 / 50\n",
            "221.24s Loss: 0.00 Accuracy: 1.00 Validation Loss: 0.46 Validation Accuracy: 0.91\n",
            "Epoch: 36 / 50\n",
            "196.52s Loss: 0.00 Accuracy: 1.00 Validation Loss: 0.47 Validation Accuracy: 0.91\n",
            "Epoch: 37 / 50\n",
            "196.04s Loss: 0.00 Accuracy: 1.00 Validation Loss: 0.63 Validation Accuracy: 0.91\n",
            "Epoch: 38 / 50\n",
            "222.43s Loss: 0.00 Accuracy: 1.00 Validation Loss: 0.48 Validation Accuracy: 0.90\n",
            "Epoch: 39 / 50\n",
            "221.17s Loss: 0.00 Accuracy: 1.00 Validation Loss: 0.69 Validation Accuracy: 0.91\n",
            "Epoch: 40 / 50\n",
            "194.54s Loss: 0.00 Accuracy: 1.00 Validation Loss: 0.50 Validation Accuracy: 0.90\n",
            "Epoch: 41 / 50\n",
            "196.79s Loss: 0.00 Accuracy: 1.00 Validation Loss: 0.50 Validation Accuracy: 0.91\n",
            "Epoch: 42 / 50\n",
            "196.87s Loss: 0.00 Accuracy: 1.00 Validation Loss: 0.49 Validation Accuracy: 0.90\n",
            "Epoch: 43 / 50\n",
            "222.42s Loss: 0.00 Accuracy: 1.00 Validation Loss: 0.50 Validation Accuracy: 0.91\n",
            "Epoch: 44 / 50\n",
            "194.91s Loss: 0.00 Accuracy: 1.00 Validation Loss: 0.63 Validation Accuracy: 0.91\n",
            "Epoch: 45 / 50\n",
            "196.64s Loss: 0.00 Accuracy: 1.00 Validation Loss: 0.50 Validation Accuracy: 0.91\n",
            "Epoch: 46 / 50\n",
            "221.15s Loss: 0.00 Accuracy: 1.00 Validation Loss: 0.50 Validation Accuracy: 0.90\n",
            "Epoch: 47 / 50\n",
            "196.05s Loss: 0.00 Accuracy: 1.00 Validation Loss: 0.51 Validation Accuracy: 0.91\n",
            "Epoch: 48 / 50\n",
            "221.07s Loss: 0.00 Accuracy: 1.00 Validation Loss: 0.51 Validation Accuracy: 0.90\n",
            "Epoch: 49 / 50\n",
            "221.08s Loss: 0.00 Accuracy: 1.00 Validation Loss: 0.73 Validation Accuracy: 0.90\n",
            "Epoch: 50 / 50\n",
            "221.29s Loss: 0.00 Accuracy: 1.00 Validation Loss: 0.52 Validation Accuracy: 0.91\n"
          ]
        }
      ]
    },
    {
      "cell_type": "code",
      "source": [
        "pd.DataFrame(history).plot()"
      ],
      "metadata": {
        "colab": {
          "base_uri": "https://localhost:8080/",
          "height": 282
        },
        "id": "G9JBzL2qJSmA",
        "outputId": "f96bd166-f3ef-46a4-8556-a8062c3e3f84"
      },
      "execution_count": null,
      "outputs": [
        {
          "output_type": "execute_result",
          "data": {
            "text/plain": [
              "<matplotlib.axes._subplots.AxesSubplot at 0x7ff460f99350>"
            ]
          },
          "metadata": {},
          "execution_count": 16
        },
        {
          "output_type": "display_data",
          "data": {
            "text/plain": [
              "<Figure size 432x288 with 1 Axes>"
            ],
            "image/png": "[encoded data removed]"
          },
          "metadata": {
            "needs_background": "light"
          }
        }
      ]
    },
    {
      "cell_type": "code",
      "source": [
        "predicted_labels = []\n",
        "actual_labels = []\n",
        "for (x_batch, y_true) in valid_dataset:\n",
        "    y_pred = model(x_batch)\n",
        "    predicted_labels += list(np.array(tf.argmax(y_pred, axis=-1)))\n",
        "    actual_labels += list(np.array(y_true))"
      ],
      "metadata": {
        "id": "F6Br__wjJU4e"
      },
      "execution_count": null,
      "outputs": []
    },
    {
      "cell_type": "code",
      "source": [
        "matrix = confusion_matrix(actual_labels, predicted_labels)\n",
        "print(matrix)\n",
        "sns.heatmap(matrix)"
      ],
      "metadata": {
        "colab": {
          "base_uri": "https://localhost:8080/",
          "height": 317
        },
        "id": "ioy9WcBOJXai",
        "outputId": "0ef8cb37-3279-4177-d9d5-3500a95090b6"
      },
      "execution_count": null,
      "outputs": [
        {
          "output_type": "stream",
          "name": "stdout",
          "text": [
            "[[386  37]\n",
            " [ 42 369]]\n"
          ]
        },
        {
          "output_type": "execute_result",
          "data": {
            "text/plain": [
              "<matplotlib.axes._subplots.AxesSubplot at 0x7ff460e7e350>"
            ]
          },
          "metadata": {},
          "execution_count": 18
        },
        {
          "output_type": "display_data",
          "data": {
            "text/plain": [
              "<Figure size 432x288 with 2 Axes>"
            ],
            "image/png": "[encoded data removed]"
          },
          "metadata": {
            "needs_background": "light"
          }
        }
      ]
    },
    {
      "cell_type": "code",
      "source": [
        "cls_report = classification_report(predicted_labels, actual_labels)\n",
        "print(cls_report)"
      ],
      "metadata": {
        "colab": {
          "base_uri": "https://localhost:8080/"
        },
        "id": "gr9hlJm2JYok",
        "outputId": "d933043a-1347-47a4-99c4-379ca700b978"
      },
      "execution_count": null,
      "outputs": [
        {
          "output_type": "stream",
          "name": "stdout",
          "text": [
            "              precision    recall  f1-score   support\n",
            "\n",
            "           0       0.91      0.90      0.91       428\n",
            "           1       0.90      0.91      0.90       406\n",
            "\n",
            "    accuracy                           0.91       834\n",
            "   macro avg       0.91      0.91      0.91       834\n",
            "weighted avg       0.91      0.91      0.91       834\n",
            "\n"
          ]
        }
      ]
    },
    {
      "cell_type": "code",
      "source": [
        "model.save(\"model.h5\")"
      ],
      "metadata": {
        "colab": {
          "base_uri": "https://localhost:8080/"
        },
        "id": "i6oii17QJZxw",
        "outputId": "965fc10a-4da1-4cdc-9ee8-1ea63ff4e481"
      },
      "execution_count": null,
      "outputs": [
        {
          "output_type": "stream",
          "name": "stdout",
          "text": [
            "WARNING:tensorflow:Compiled the loaded model, but the compiled metrics have yet to be built. `model.compile_metrics` will be empty until you train or evaluate the model.\n"
          ]
        },
        {
          "output_type": "stream",
          "name": "stderr",
          "text": [
            "WARNING:tensorflow:Compiled the loaded model, but the compiled metrics have yet to be built. `model.compile_metrics` will be empty until you train or evaluate the model.\n"
          ]
        }
      ]
    }
  ]
}